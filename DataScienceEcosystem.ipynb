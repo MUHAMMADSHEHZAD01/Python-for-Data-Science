{
  "nbformat": 4,
  "nbformat_minor": 0,
  "metadata": {
    "colab": {
      "provenance": [],
      "authorship_tag": "ABX9TyNxY+PtGZ1gMgLkPAm/qgCo",
      "include_colab_link": true
    },
    "kernelspec": {
      "name": "python3",
      "display_name": "Python 3"
    },
    "language_info": {
      "name": "python"
    }
  },
  "cells": [
    {
      "cell_type": "markdown",
      "metadata": {
        "id": "view-in-github",
        "colab_type": "text"
      },
      "source": [
        "<a href=\"https://colab.research.google.com/github/MUHAMMADSHEHZAD01/Python-for-Data-Science/blob/main/DataScienceEcosystem.ipynb\" target=\"_parent\"><img src=\"https://colab.research.google.com/assets/colab-badge.svg\" alt=\"Open In Colab\"/></a>"
      ]
    },
    {
      "cell_type": "markdown",
      "source": [
        "# Data Science Tools and Ecosystem"
      ],
      "metadata": {
        "id": "7pmn_1a_b8yw"
      }
    },
    {
      "cell_type": "markdown",
      "source": [
        "In this notebook, Data Science Tools and Ecosystem are summarized."
      ],
      "metadata": {
        "id": "-oBg0Nhzca1g"
      }
    },
    {
      "cell_type": "markdown",
      "source": [
        "# Some of the popular languages that Data Scientists use are:\n",
        "\n",
        "1. Python\n",
        "2. R\n",
        "3. SQL\n",
        "4. Java\n",
        "5. Julia\n",
        "6. Scala\n",
        "7. C++\n",
        "8. JavaScript\n",
        "9. Swift\n",
        "10. Go\n",
        "11. MATLAB\n",
        "12. SAS\n",
        "13. Stata"
      ],
      "metadata": {
        "id": "iIbXO6Yfc7bP"
      }
    },
    {
      "cell_type": "markdown",
      "source": [
        "# # Data Science Tools and Ecosystem\n",
        "In this notebook, Data Science Tools and Ecosystem are summarized.\n",
        "\n",
        "    Some of the popular languages that Data Scientists use are:\n",
        "1. Python\n",
        "2. R\n",
        "3. SQL\n",
        "4. Java\n",
        "5. Julia\n",
        "6. Scala\n",
        "7. C++\n",
        "8. JavaScript\n",
        "9. Swift\n",
        "10. Go\n",
        "11. MATLAB\n",
        "12. SAS\n",
        "13. Stata\n",
        "    Some of the commonly used libraries used by Data Scientists include:\n",
        "1. Pandas\n",
        "2. NumPy\n",
        "3. Scikit-learn\n",
        "4. Matplotlib\n",
        "5. Seaborn\n",
        "6. TensorFlow\n"
      ],
      "metadata": {
        "id": "eM_L2J1dd_Rm"
      }
    },
    {
      "cell_type": "code",
      "source": [
        "import pandas as pd\n",
        "\n",
        "data = [['Data Science Tools'], ['Weka'], ['Scrapy'], ['Pandas']]\n",
        "df = pd.DataFrame(data)\n",
        "\n",
        "# Display the table without index\n",
        "# Use 'index=False' argument in 'to_string()' to suppress index display\n",
        "print(df.to_string(index=False))"
      ],
      "metadata": {
        "colab": {
          "base_uri": "https://localhost:8080/"
        },
        "id": "eFYmX_JEb9iv",
        "outputId": "bb07b20b-2b48-4734-f8b6-7df17d358056"
      },
      "execution_count": 2,
      "outputs": [
        {
          "output_type": "stream",
          "name": "stdout",
          "text": [
            "                 0\n",
            "Data Science Tools\n",
            "              Weka\n",
            "            Scrapy\n",
            "            Pandas\n"
          ]
        }
      ]
    },
    {
      "cell_type": "markdown",
      "source": [
        "### Below are a few examples of evaluating arithmetic expressions in Python."
      ],
      "metadata": {
        "id": "o4nvzaOzfiQv"
      }
    },
    {
      "cell_type": "code",
      "source": [
        "# This is a simple arithmetic expression to multiply then add integers\n",
        "result = (3*4)+5\n",
        "assert result == 17, f\"Expected 17, but got {result}\""
      ],
      "metadata": {
        "id": "V7q11gKFe-i5"
      },
      "execution_count": 3,
      "outputs": []
    },
    {
      "cell_type": "code",
      "source": [
        "# Get the whole number of hours\n",
        "hours = 200 // 60\n",
        "\n",
        "# Get the remaining minutes\n",
        "minutes = 200 % 60\n",
        "\n",
        "print(f\"{hours} hours and {minutes} minutes\")\n"
      ],
      "metadata": {
        "colab": {
          "base_uri": "https://localhost:8080/"
        },
        "id": "oF2a3mNcfsrg",
        "outputId": "fc6dde52-e5c8-44b9-a4b2-ca03ce70c6ee"
      },
      "execution_count": 4,
      "outputs": [
        {
          "output_type": "stream",
          "name": "stdout",
          "text": [
            "3 hours and 20 minutes\n"
          ]
        }
      ]
    },
    {
      "cell_type": "markdown",
      "source": [
        "**Objectives:**\n",
        "\n",
        "* List popular languages for Data Science.\n",
        "* Introduce commonly used libraries in Data Science.\n",
        "* Demonstrate arithmetic expression evaluation in Python.\n",
        "* Convert units (e.g., minutes to hours) using Python."
      ],
      "metadata": {
        "id": "q0c1-xh1gA3C"
      }
    },
    {
      "cell_type": "markdown",
      "source": [
        "## Author\n",
        "**MUHAMMAD SHEHZAD**"
      ],
      "metadata": {
        "id": "zmXDMikbgSfO"
      }
    },
    {
      "cell_type": "code",
      "source": [],
      "metadata": {
        "id": "5y6xkYFbf2G3"
      },
      "execution_count": null,
      "outputs": []
    }
  ]
}